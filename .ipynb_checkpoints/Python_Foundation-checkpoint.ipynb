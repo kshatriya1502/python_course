{
 "cells": [
  {
   "cell_type": "code",
   "execution_count": 2,
   "id": "1c42d59e-a7ab-4581-b5a8-9c8e5383cc78",
   "metadata": {},
   "outputs": [
    {
     "name": "stdout",
     "output_type": "stream",
     "text": [
      "version of the python : 3.12.4 (tags/v3.12.4:8e8a4ba, Jun  6 2024, 19:30:16) [MSC v.1940 64 bit (AMD64)]\n"
     ]
    }
   ],
   "source": [
    "import sys\n",
    "print(\"version of the python :\" , sys.version)"
   ]
  },
  {
   "cell_type": "markdown",
   "id": "599346c0-4f74-4de7-b4dc-62f4079a5470",
   "metadata": {},
   "source": [
    "### Variable"
   ]
  },
  {
   "cell_type": "raw",
   "id": "9d400c7c-9c57-4daa-be4e-f6d3611e9d1f",
   "metadata": {},
   "source": [
    "Variables\n",
    "Variables are containers for storing data values.\n",
    "\n",
    "Python has no command for declaring a variable.\n",
    "A variable is created the moment you first assign a value to it."
   ]
  },
  {
   "cell_type": "code",
   "execution_count": 5,
   "id": "d879d9d7-c2f6-436c-af4c-f5f7eaadc791",
   "metadata": {},
   "outputs": [
    {
     "name": "stdout",
     "output_type": "stream",
     "text": [
      "alex\n"
     ]
    }
   ],
   "source": [
    "x = 5 \n",
    "x = \"alex\"\n",
    "print(x)"
   ]
  },
  {
   "cell_type": "markdown",
   "id": "f8d69162-69ea-4a19-81dd-6bcf445fe398",
   "metadata": {},
   "source": [
    "### Casting"
   ]
  },
  {
   "cell_type": "raw",
   "id": "a9dc5c33-5c25-4d6f-82c0-ecf12b3ef15d",
   "metadata": {},
   "source": [
    "\n",
    "If you want to specify the data type of a variable, this can be done with casting.\n",
    "\n"
   ]
  },
  {
   "cell_type": "code",
   "execution_count": 10,
   "id": "f158c6c7-8119-4628-8b80-ff34f8c2bd06",
   "metadata": {},
   "outputs": [],
   "source": [
    "x = str(3)    # x will be '3'\n",
    "y = int(3)    # y will be 3\n",
    "z = float(3)  # z will be 3.0\n"
   ]
  },
  {
   "cell_type": "markdown",
   "id": "e1861669-e23a-4200-add2-56c5807a593b",
   "metadata": {},
   "source": [
    "### Get the Type"
   ]
  },
  {
   "cell_type": "code",
   "execution_count": 11,
   "id": "8d53ccd1-308d-4048-9a21-3cd252d475bb",
   "metadata": {},
   "outputs": [
    {
     "name": "stdout",
     "output_type": "stream",
     "text": [
      "<class 'int'>\n",
      "<class 'str'>\n"
     ]
    }
   ],
   "source": [
    "x = 5\n",
    "y = \"John\"\n",
    "print(type(x))\n",
    "print(type(y))"
   ]
  },
  {
   "cell_type": "markdown",
   "id": "b14c68c5-322b-445c-a65e-b169e8115f5a",
   "metadata": {},
   "source": [
    "### String variables can be declared either by using single or double quotes:"
   ]
  },
  {
   "cell_type": "code",
   "execution_count": 12,
   "id": "81399206-d4ba-424e-82c2-e744997c89a6",
   "metadata": {},
   "outputs": [],
   "source": [
    "x = \"John\"\n",
    "# is the same as\n",
    "x = 'John'"
   ]
  },
  {
   "cell_type": "markdown",
   "id": "9f544e3b-c5e5-4336-b555-64145225c3c5",
   "metadata": {},
   "source": [
    "### Many Values to Multiple Variables"
   ]
  },
  {
   "cell_type": "markdown",
   "id": "2b1c1c0c-8dee-49cd-ae8d-25ff8d0efea5",
   "metadata": {},
   "source": [
    "python allows you to assign values to multiple variables in one line:"
   ]
  },
  {
   "cell_type": "code",
   "execution_count": 13,
   "id": "a4461d12-14e0-4a29-a716-958c6d59573d",
   "metadata": {},
   "outputs": [
    {
     "name": "stdout",
     "output_type": "stream",
     "text": [
      "Orange\n",
      "Banana\n",
      "Cherry\n"
     ]
    }
   ],
   "source": [
    "x, y, z = \"Orange\", \"Banana\", \"Cherry\"\n",
    "print(x)\n",
    "print(y)\n",
    "print(z)"
   ]
  },
  {
   "cell_type": "markdown",
   "id": "db8da79c-9bb4-4252-abd4-5f136917322b",
   "metadata": {},
   "source": [
    "### One Value to Multiple Variables\n"
   ]
  },
  {
   "cell_type": "markdown",
   "id": "c54d6477-34d2-46ee-a7ca-5a0202391466",
   "metadata": {},
   "source": [
    "And you can assign the same value to multiple variables in one line:"
   ]
  },
  {
   "cell_type": "code",
   "execution_count": 14,
   "id": "d63c8459-eaba-406e-9732-63640f8cfe4b",
   "metadata": {},
   "outputs": [
    {
     "name": "stdout",
     "output_type": "stream",
     "text": [
      "Orange\n",
      "Orange\n",
      "Orange\n"
     ]
    }
   ],
   "source": [
    "x = y = z = \"Orange\"\n",
    "print(x)\n",
    "print(y)\n",
    "print(z)"
   ]
  },
  {
   "cell_type": "markdown",
   "id": "3d4d1598-f265-42a8-a880-8a0df61c6118",
   "metadata": {},
   "source": [
    "### Unpack a Collection"
   ]
  },
  {
   "cell_type": "markdown",
   "id": "5f85622c-0129-4c5d-9c79-73a80a84286d",
   "metadata": {},
   "source": [
    "If you have a collection of values in a list, tuple etc. Python allows you to extract the values into variables.`This is called unpacking."
   ]
  },
  {
   "cell_type": "code",
   "execution_count": 18,
   "id": "8375b420-d2c0-426c-8e7f-048d33dfd015",
   "metadata": {},
   "outputs": [
    {
     "name": "stdout",
     "output_type": "stream",
     "text": [
      "apple\n",
      "banana\n",
      "cherry\n"
     ]
    }
   ],
   "source": [
    "fruits = [\"apple\", \"banana\", \"cherry\"]\n",
    "x, y, z = fruits\n",
    "print(x)\n",
    "print(y)\n",
    "print(z)"
   ]
  },
  {
   "cell_type": "markdown",
   "id": "c0884982-cce1-4f5f-8774-2e13fb331bbd",
   "metadata": {},
   "source": [
    "### global variable"
   ]
  },
  {
   "cell_type": "code",
   "execution_count": 19,
   "id": "2e633bab-64be-4650-b7fe-7db0f0110bd2",
   "metadata": {},
   "outputs": [
    {
     "name": "stdout",
     "output_type": "stream",
     "text": [
      "Python is fantastic\n",
      "Python is awesome\n"
     ]
    }
   ],
   "source": [
    "x = \"awesome\"\n",
    "\n",
    "def myfunc():\n",
    "  x = \"fantastic\"\n",
    "  print(\"Python is \" + x)\n",
    "\n",
    "myfunc()\n",
    "\n",
    "print(\"Python is \" + x)"
   ]
  },
  {
   "cell_type": "markdown",
   "id": "995d863e-7132-4bee-9ffe-9165a6be6537",
   "metadata": {},
   "source": [
    "### Python datatypes"
   ]
  },
  {
   "cell_type": "markdown",
   "id": "7f30cb88-5aa9-4116-86cb-24f52f6659be",
   "metadata": {},
   "source": [
    "##### Built-in Data Types"
   ]
  },
  {
   "cell_type": "markdown",
   "id": "3e4dccf6-7c9a-4fcc-8b44-e5b70637bb57",
   "metadata": {},
   "source": [
    "In programming, data type is an important concept.\n",
    "\n",
    "Variables can store data of different types, and different types can do different things.\n",
    "\n",
    "Python has the following data types built-in by default, in these categories:"
   ]
  },
  {
   "cell_type": "code",
   "execution_count": null,
   "id": "25ff3cf8-e0cd-4e06-bca2-3bb511c5e165",
   "metadata": {},
   "outputs": [],
   "source": [
    "Text Type:\tstr\n",
    "Numeric Types:\tint, float, complex\n",
    "Sequence Types:\tlist, tuple, range\n",
    "Mapping Type:\tdict\n",
    "Set Types:\tset, frozenset\n",
    "Boolean Type:\tbool\n",
    "Binary Types:\tbytes, bytearray, memoryview\n",
    "None Type:\tNoneType"
   ]
  },
  {
   "cell_type": "code",
   "execution_count": 21,
   "id": "4cf2d25f-81fe-4b42-b510-295c0033fc95",
   "metadata": {},
   "outputs": [
    {
     "name": "stdout",
     "output_type": "stream",
     "text": [
      "<class 'NoneType'>\n"
     ]
    }
   ],
   "source": [
    "print(type(None))"
   ]
  },
  {
   "cell_type": "markdown",
   "id": "f96e041f-fc55-4534-abc5-9408e5601c55",
   "metadata": {},
   "source": [
    "### numbers"
   ]
  },
  {
   "cell_type": "code",
   "execution_count": 23,
   "id": "de1c473a-0edc-4eda-b63b-45fb18316572",
   "metadata": {},
   "outputs": [
    {
     "name": "stdout",
     "output_type": "stream",
     "text": [
      "<class 'int'>\n",
      "<class 'float'>\n",
      "<class 'complex'>\n"
     ]
    }
   ],
   "source": [
    "x = 1    # int\n",
    "y = 2.8  # float\n",
    "z = 1j   # complex\n",
    "\n",
    "print(type(x))\n",
    "print(type(y))\n",
    "print(type(z))"
   ]
  },
  {
   "cell_type": "markdown",
   "id": "875b6d41-e84e-4070-9d15-9d3f156b734e",
   "metadata": {},
   "source": [
    "#### INT"
   ]
  },
  {
   "cell_type": "raw",
   "id": "fc6b1a4a-22b8-43fd-87d3-82ec9c382d57",
   "metadata": {},
   "source": [
    "Int, or integer, is a whole number, positive or negative, without decimals, of unlimited length."
   ]
  },
  {
   "cell_type": "code",
   "execution_count": 24,
   "id": "91d0bc62-59bb-4ff1-8068-0a6435832768",
   "metadata": {},
   "outputs": [
    {
     "name": "stdout",
     "output_type": "stream",
     "text": [
      "<class 'int'>\n",
      "<class 'int'>\n",
      "<class 'int'>\n"
     ]
    }
   ],
   "source": [
    "x = 1\n",
    "y = 35656222554887711\n",
    "z = -3255522\n",
    "\n",
    "print(type(x))\n",
    "print(type(y))\n",
    "print(type(z))"
   ]
  },
  {
   "cell_type": "markdown",
   "id": "f61439e8-b9d1-4527-80bb-1e6bb38ee101",
   "metadata": {},
   "source": [
    "#### Float"
   ]
  },
  {
   "cell_type": "raw",
   "id": "c502fb91-ad3d-440f-ac33-4519d03e9015",
   "metadata": {},
   "source": [
    "\n",
    "Float, or \"floating point number\" is a number, positive or negative, containing one or more decimals."
   ]
  },
  {
   "cell_type": "code",
   "execution_count": 25,
   "id": "5c695379-a5f4-454e-8946-f404b570f40d",
   "metadata": {},
   "outputs": [
    {
     "name": "stdout",
     "output_type": "stream",
     "text": [
      "<class 'float'>\n",
      "<class 'float'>\n",
      "<class 'float'>\n"
     ]
    }
   ],
   "source": [
    "x = 1.10\n",
    "y = 1.0\n",
    "z = -35.59\n",
    "\n",
    "print(type(x))\n",
    "print(type(y))\n",
    "print(type(z))"
   ]
  },
  {
   "cell_type": "code",
   "execution_count": 27,
   "id": "5ac6f0d1-81fe-4b1f-9934-05725f55e1ff",
   "metadata": {},
   "outputs": [
    {
     "name": "stdout",
     "output_type": "stream",
     "text": [
      "<class 'float'>\n",
      "<class 'float'>\n",
      "<class 'float'>\n",
      "35000.0\n",
      "120000.0\n",
      "-8.77e+101\n"
     ]
    }
   ],
   "source": [
    "x = 35e3\n",
    "y = 12E4\n",
    "z = -87.7e100\n",
    "\n",
    "print(type(x))\n",
    "print(type(y))\n",
    "print(type(z))\n",
    "\n",
    "print(x)\n",
    "print(y)\n",
    "print(z)"
   ]
  },
  {
   "cell_type": "markdown",
   "id": "2cf71b1b-6dc2-45b9-bd76-66f4a389af82",
   "metadata": {},
   "source": [
    "### strings"
   ]
  },
  {
   "cell_type": "markdown",
   "id": "7ff962e7-26f4-499a-a280-8a55e38bee9e",
   "metadata": {},
   "source": [
    "#### multiline strings"
   ]
  },
  {
   "cell_type": "code",
   "execution_count": 28,
   "id": "26654124-46d9-4edc-9a28-7e9cbd950b29",
   "metadata": {},
   "outputs": [
    {
     "name": "stdout",
     "output_type": "stream",
     "text": [
      "Lorem ipsum dolor sit amet,\n",
      "consectetur adipiscing elit,\n",
      "sed do eiusmod tempor incididunt\n",
      "ut labore et dolore magna aliqua.\n"
     ]
    }
   ],
   "source": [
    "a = \"\"\"Lorem ipsum dolor sit amet,\n",
    "consectetur adipiscing elit,\n",
    "sed do eiusmod tempor incididunt\n",
    "ut labore et dolore magna aliqua.\"\"\"\n",
    "print(a)"
   ]
  },
  {
   "cell_type": "code",
   "execution_count": 29,
   "id": "f247b952-3752-4aab-b3fa-aea90f7c85b4",
   "metadata": {},
   "outputs": [
    {
     "name": "stdout",
     "output_type": "stream",
     "text": [
      "Lorem ipsum dolor sit amet,\n",
      "consectetur adipiscing elit,\n",
      "sed do eiusmod tempor incididunt\n",
      "ut labore et dolore magna aliqua.\n"
     ]
    }
   ],
   "source": [
    "a = '''Lorem ipsum dolor sit amet,\n",
    "consectetur adipiscing elit,\n",
    "sed do eiusmod tempor incididunt\n",
    "ut labore et dolore magna aliqua.'''\n",
    "print(a)"
   ]
  },
  {
   "cell_type": "markdown",
   "id": "7921f01f-c929-4e74-8222-724d2130b6a2",
   "metadata": {},
   "source": [
    "### slicing in the strings"
   ]
  },
  {
   "cell_type": "code",
   "execution_count": 32,
   "id": "b6534e6c-5b52-407f-85cf-0a271c1ff274",
   "metadata": {},
   "outputs": [
    {
     "name": "stdout",
     "output_type": "stream",
     "text": [
      "ello\n",
      "llo\n",
      "lo\n",
      "Hello, World!\n",
      "ello, World!\n",
      "llo, World!\n"
     ]
    }
   ],
   "source": [
    "b = \"Hello, World!\"\n",
    "print(b[1:5])\n",
    "print(b[2:5])\n",
    "print(b[3:5])\n",
    "print(b[0:13])\n",
    "print(b[1:13])\n",
    "print(b[2:13])"
   ]
  },
  {
   "cell_type": "markdown",
   "id": "14751485-0d66-47dd-8b63-f3c2846de60d",
   "metadata": {},
   "source": [
    "### slice from the start : "
   ]
  },
  {
   "cell_type": "code",
   "execution_count": 34,
   "id": "92338a5b-929f-496b-983a-cd53c49466f1",
   "metadata": {},
   "outputs": [
    {
     "name": "stdout",
     "output_type": "stream",
     "text": [
      "Hello,\n"
     ]
    }
   ],
   "source": [
    "b = \"Hello, World!\"\n",
    "print(b[:6])"
   ]
  },
  {
   "cell_type": "markdown",
   "id": "bae80463-6008-4554-abee-f96024148ce9",
   "metadata": {},
   "source": [
    "### Slice To the End"
   ]
  },
  {
   "cell_type": "code",
   "execution_count": 39,
   "id": "dae168f5-057e-404c-8ee8-9c597a97d005",
   "metadata": {},
   "outputs": [
    {
     "name": "stdout",
     "output_type": "stream",
     "text": [
      ", World!\n"
     ]
    }
   ],
   "source": [
    "b = \"Hello, World!\"\n",
    "print(b[5:])"
   ]
  },
  {
   "cell_type": "code",
   "execution_count": 44,
   "id": "5c5a7dc9-a72b-4dd1-8c43-3032e8386da4",
   "metadata": {},
   "outputs": [
    {
     "name": "stdout",
     "output_type": "stream",
     "text": [
      "Hello, World!\n"
     ]
    }
   ],
   "source": [
    "b = \"Hello, World!\"\n",
    "print(b[:])"
   ]
  },
  {
   "cell_type": "markdown",
   "id": "09d822b8-3be7-46db-8098-344e49e2fe19",
   "metadata": {},
   "source": [
    "### negative indexing"
   ]
  },
  {
   "cell_type": "code",
   "execution_count": 1,
   "id": "84f6bfb5-b8c9-4698-aab8-75b05f2ba1c4",
   "metadata": {},
   "outputs": [
    {
     "name": "stdout",
     "output_type": "stream",
     "text": [
      "Worl\n"
     ]
    }
   ],
   "source": [
    "b = \"Hello, World!\"\n",
    "print(b[-6:-2])"
   ]
  },
  {
   "cell_type": "code",
   "execution_count": 70,
   "id": "68bed22f-7888-4d77-b37b-83ddd7175a54",
   "metadata": {},
   "outputs": [
    {
     "name": "stdout",
     "output_type": "stream",
     "text": [
      "!dlroW ,olleH\n"
     ]
    }
   ],
   "source": [
    "b = \"Hello, World!\"\n",
    "print(b[::-1])"
   ]
  },
  {
   "cell_type": "code",
   "execution_count": 72,
   "id": "d699fb57-2da2-4ee4-8d2c-1894f5cbeed1",
   "metadata": {},
   "outputs": [
    {
     "name": "stdin",
     "output_type": "stream",
     "text": [
      "enter string abcd\n"
     ]
    },
    {
     "name": "stdout",
     "output_type": "stream",
     "text": [
      "not palindrome\n"
     ]
    }
   ],
   "source": [
    "#check palindrome function :\n",
    "\n",
    "def checkPalind(x):\n",
    "    return x == x[::-1]\n",
    "\n",
    "x = input(\"enter string\")\n",
    "if checkPalind(x):\n",
    "    print(\"palindrome\")\n",
    "else:\n",
    "    print(\"not palindrome\")"
   ]
  },
  {
   "cell_type": "markdown",
   "id": "07a8d2d0-6eb6-4430-ac65-08a0c899c5c5",
   "metadata": {},
   "source": [
    "### modify strings in the python : "
   ]
  },
  {
   "cell_type": "markdown",
   "id": "e190e652-cd01-4822-8158-aa17e0e3e050",
   "metadata": {},
   "source": [
    "### upper case"
   ]
  },
  {
   "cell_type": "code",
   "execution_count": 73,
   "id": "2936592a-a7c2-4155-bb79-1b49bc663a1c",
   "metadata": {},
   "outputs": [
    {
     "name": "stdout",
     "output_type": "stream",
     "text": [
      "HELLO, WORLD!\n"
     ]
    }
   ],
   "source": [
    "a = \"Hello, World!\"\n",
    "print(a.upper())"
   ]
  },
  {
   "cell_type": "markdown",
   "id": "f9c0c7df-ac8a-41af-b517-0ba6e8851e5c",
   "metadata": {},
   "source": [
    "### lower case"
   ]
  },
  {
   "cell_type": "code",
   "execution_count": 75,
   "id": "bf57ab74-a1c6-4255-8cb0-3953f0f1ccf4",
   "metadata": {},
   "outputs": [
    {
     "name": "stdout",
     "output_type": "stream",
     "text": [
      "hello, world!\n"
     ]
    }
   ],
   "source": [
    "a = \"Hello, World!\"\n",
    "print(a.lower())"
   ]
  },
  {
   "cell_type": "markdown",
   "id": "bd7efb50-b5e9-49f9-8b26-55d9de124de3",
   "metadata": {},
   "source": [
    "### white space : "
   ]
  },
  {
   "cell_type": "markdown",
   "id": "a567d630-bfb9-4cec-b5be-b2c3fb78813c",
   "metadata": {},
   "source": [
    "Whitespace is the space before and/or after the actual text, and very often you want to remove this space."
   ]
  },
  {
   "cell_type": "code",
   "execution_count": 88,
   "id": "78ca85dd-7702-4aad-80cd-f94a52709123",
   "metadata": {},
   "outputs": [
    {
     "name": "stdout",
     "output_type": "stream",
     "text": [
      "Hello,World!\n"
     ]
    }
   ],
   "source": [
    "a = \"           Hello,World!            \"\n",
    "print(a.strip()) # returns \"Hello, World!\""
   ]
  },
  {
   "cell_type": "raw",
   "id": "071a3853-c0ca-48b9-813a-d67577537a6f",
   "metadata": {},
   "source": [
    "# The replace() method replaces a string with another string:"
   ]
  },
  {
   "cell_type": "code",
   "execution_count": 83,
   "id": "adc21d25-3b82-4bac-b5fc-324c847c7503",
   "metadata": {},
   "outputs": [
    {
     "name": "stdout",
     "output_type": "stream",
     "text": [
      "Jello, World!\n"
     ]
    }
   ],
   "source": [
    "a = \"Hello, World!\"\n",
    "print(a.replace(\"H\", \"J\"))"
   ]
  },
  {
   "cell_type": "raw",
   "id": "1f23193c-1ae9-42b8-aa73-0696fee23d75",
   "metadata": {},
   "source": [
    "The split() method returns a list where the text between the specified separator becomes the list items.\n"
   ]
  },
  {
   "cell_type": "code",
   "execution_count": 87,
   "id": "f0c5f391-d5f1-4dd7-a1db-f5b698eda3a7",
   "metadata": {},
   "outputs": [
    {
     "name": "stdout",
     "output_type": "stream",
     "text": [
      "['Hello', ' Wo', 'rl', 'd!']\n"
     ]
    }
   ],
   "source": [
    "a = \"Hello, Wo,rl,d!\"\n",
    "print(a.split(\",\")) # returns ['Hello', ' World!']"
   ]
  },
  {
   "cell_type": "code",
   "execution_count": 89,
   "id": "97739925-3dc8-4a25-9704-1e71a8e13704",
   "metadata": {},
   "outputs": [
    {
     "name": "stdout",
     "output_type": "stream",
     "text": [
      "Hello, wo,rl,d!\n"
     ]
    }
   ],
   "source": [
    "a = \"hello, Wo,rl,d!\"\n",
    "print(a.capitalize())\n"
   ]
  },
  {
   "cell_type": "markdown",
   "id": "b29f2d6a-a8e2-4991-9fe7-e3c08cac0942",
   "metadata": {},
   "source": [
    "capitalize() -- this function converts the first letter of the string from the lower case to the upper case"
   ]
  },
  {
   "cell_type": "code",
   "execution_count": 91,
   "id": "b1e7c2c4-9d27-4207-ab0b-78a7c4527217",
   "metadata": {},
   "outputs": [
    {
     "name": "stdout",
     "output_type": "stream",
     "text": [
      "My name is John, I am36\n"
     ]
    }
   ],
   "source": [
    "age = 36\n",
    "txt = \"My name is John, I am\" + str(age)\n",
    "print(txt)"
   ]
  },
  {
   "cell_type": "markdown",
   "id": "93321a40-cdf5-4b2b-8904-ce9b95b37cd5",
   "metadata": {},
   "source": [
    "### F-strings"
   ]
  },
  {
   "cell_type": "markdown",
   "id": "af2a8e56-c5bc-49b0-a55e-65ca25938073",
   "metadata": {},
   "source": [
    "F-String was introduced in Python 3.6, and is now the preferred way of formatting strings.\n",
    "\n",
    "To specify a string as an f-string, simply put an f in front of the string literal, and add curly brackets {} as placeholders for variables and other operations."
   ]
  },
  {
   "cell_type": "code",
   "execution_count": 92,
   "id": "bb506b3d-0f37-485d-9e94-ce5b0e95aa36",
   "metadata": {},
   "outputs": [
    {
     "name": "stdout",
     "output_type": "stream",
     "text": [
      "My name is John, I am 36\n"
     ]
    }
   ],
   "source": [
    "age = 36\n",
    "txt = f\"My name is John, I am {age}\"\n",
    "print(txt)"
   ]
  },
  {
   "cell_type": "markdown",
   "id": "e1d57299-c7c0-4215-bd61-9cc92b6ed3db",
   "metadata": {},
   "source": [
    "### Placeholders and Modifiers\n"
   ]
  },
  {
   "cell_type": "markdown",
   "id": "65197db5-5cbf-4d91-983d-1edaf9f8e7f2",
   "metadata": {},
   "source": [
    "A placeholder can contain variables, operations, functions, and modifiers to format the value."
   ]
  },
  {
   "cell_type": "code",
   "execution_count": 93,
   "id": "3b9b76a9-b81e-4329-8cf0-63f9d0c2c3ea",
   "metadata": {},
   "outputs": [
    {
     "name": "stdout",
     "output_type": "stream",
     "text": [
      "The price is 59 dollars\n"
     ]
    }
   ],
   "source": [
    "price = 59\n",
    "txt = f\"The price is {price} dollars\"\n",
    "print(txt)"
   ]
  },
  {
   "cell_type": "code",
   "execution_count": 94,
   "id": "797c87b1-d7d8-4a25-a99a-75fd32df90e8",
   "metadata": {},
   "outputs": [
    {
     "name": "stdout",
     "output_type": "stream",
     "text": [
      "The price is 59.00 dollars\n"
     ]
    }
   ],
   "source": [
    "price = 59\n",
    "txt = f\"The price is {price:.2f} dollars\"\n",
    "print(txt)"
   ]
  },
  {
   "cell_type": "code",
   "execution_count": 96,
   "id": "9b9a3784-d668-477e-9ea4-b2cab218a5a5",
   "metadata": {},
   "outputs": [
    {
     "name": "stdout",
     "output_type": "stream",
     "text": [
      "The price is 59.00000 dollars\n"
     ]
    }
   ],
   "source": [
    "price = 59\n",
    "txt = f\"The price is {price:.5f} dollars\"\n",
    "print(txt)"
   ]
  },
  {
   "cell_type": "code",
   "execution_count": null,
   "id": "f5b47373-559e-43b8-9944-3e611246951c",
   "metadata": {},
   "outputs": [],
   "source": [
    "Doing this will throw errror : "
   ]
  },
  {
   "cell_type": "code",
   "execution_count": 97,
   "id": "de80621a-a5f0-4e44-bf7d-a84e7f3da820",
   "metadata": {},
   "outputs": [
    {
     "ename": "SyntaxError",
     "evalue": "invalid syntax (7934146.py, line 1)",
     "output_type": "error",
     "traceback": [
      "\u001b[1;36m  Cell \u001b[1;32mIn[97], line 1\u001b[1;36m\u001b[0m\n\u001b[1;33m    txt = \"We are the so-called \"Vikings\" from the north.\"\u001b[0m\n\u001b[1;37m                                 ^\u001b[0m\n\u001b[1;31mSyntaxError\u001b[0m\u001b[1;31m:\u001b[0m invalid syntax\n"
     ]
    }
   ],
   "source": [
    "txt = \"We are the so-called \"Vikings\" from the north.\""
   ]
  },
  {
   "cell_type": "code",
   "execution_count": 2,
   "id": "fb97ed59-0bcb-403d-92c9-3c576babbe53",
   "metadata": {},
   "outputs": [
    {
     "name": "stdout",
     "output_type": "stream",
     "text": [
      "We are the so-called \"Vikings\" from the north.\n"
     ]
    }
   ],
   "source": [
    "txt = \"We are the so-called \\\"Vikings\\\" from the north.\"\n",
    "print(txt)"
   ]
  },
  {
   "cell_type": "code",
   "execution_count": null,
   "id": "d5d4db3b-853f-41ae-8c8c-d59f53c9765a",
   "metadata": {},
   "outputs": [],
   "source": [
    "capitalize()\tConverts the first character to upper case\n",
    "casefold()\tConverts string into lower case\n",
    "center()\tReturns a centered string\n",
    "count()\tReturns the number of times a specified value occurs in a string\n",
    "encode()\tReturns an encoded version of the string\n",
    "endswith()\tReturns true if the string ends with the specified value\n",
    "expandtabs()\tSets the tab size of the string\n",
    "find()\tSearches the string for a specified value and returns the position of where it was found\n",
    "format()\tFormats specified values in a string\n",
    "format_map()\tFormats specified values in a string\n",
    "index()\tSearches the string for a specified value and returns the position of where it was found\n",
    "isalnum()\tReturns True if all characters in the string are alphanumeric\n",
    "isalpha()\tReturns True if all characters in the string are in the alphabet\n",
    "isascii()\tReturns True if all characters in the string are ascii characters\n",
    "isdecimal()\tReturns True if all characters in the string are decimals\n",
    "isdigit()\tReturns True if all characters in the string are digits\n",
    "isidentifier()\tReturns True if the string is an identifier\n",
    "islower()\tReturns True if all characters in the string are lower case\n",
    "isnumeric()\tReturns True if all characters in the string are numeric\n",
    "isprintable()\tReturns True if all characters in the string are printable\n",
    "isspace()\tReturns True if all characters in the string are whitespaces\n",
    "istitle()\tReturns True if the string follows the rules of a title\n",
    "isupper()\tReturns True if all characters in the string are upper case\n",
    "join()\tJoins the elements of an iterable to the end of the string\n",
    "ljust()\tReturns a left justified version of the string\n",
    "lower()\tConverts a string into lower case\n",
    "lstrip()\tReturns a left trim version of the string\n",
    "maketrans()\tReturns a translation table to be used in translations\n",
    "partition()\tReturns a tuple where the string is parted into three parts\n",
    "replace()\tReturns a string where a specified value is replaced with a specified value\n",
    "rfind()\tSearches the string for a specified value and returns the last position of where it was found\n",
    "rindex()\tSearches the string for a specified value and returns the last position of where it was found\n",
    "rjust()\tReturns a right justified version of the string\n",
    "rpartition()\tReturns a tuple where the string is parted into three parts\n",
    "rsplit()\tSplits the string at the specified separator, and returns a list\n",
    "rstrip()\tReturns a right trim version of the string\n",
    "split()\tSplits the string at the specified separator, and returns a list\n",
    "splitlines()\tSplits the string at line breaks and returns a list\n",
    "startswith()\tReturns true if the string starts with the specified value\n",
    "strip()\tReturns a trimmed version of the string\n",
    "swapcase()\tSwaps cases, lower case becomes upper case and vice versa\n",
    "title()\tConverts the first character of each word to upper case\n",
    "translate()\tReturns a translated string\n",
    "upper()\tConverts a string into upper case\n",
    "zfill()\tFills the string with a specified number of 0 values at the beginning"
   ]
  },
  {
   "cell_type": "code",
   "execution_count": 99,
   "id": "8f42e79c-7f04-4c7b-b5a2-b87456f9c24e",
   "metadata": {},
   "outputs": [
    {
     "name": "stdout",
     "output_type": "stream",
     "text": [
      "True\n",
      "True\n"
     ]
    }
   ],
   "source": [
    "print(bool(\"Hello\"))\n",
    "print(bool(15))"
   ]
  },
  {
   "cell_type": "code",
   "execution_count": 3,
   "id": "f0f82a1e-4d2a-48cb-850d-84eb8e2a3301",
   "metadata": {},
   "outputs": [
    {
     "name": "stdout",
     "output_type": "stream",
     "text": [
      "False\n"
     ]
    }
   ],
   "source": [
    "bool(False)\n",
    "bool(None)\n",
    "bool(0)\n",
    "bool(\"\")\n",
    "bool(())\n",
    "bool([])\n",
    "print(bool({}))"
   ]
  },
  {
   "cell_type": "markdown",
   "id": "4de33eee-8969-42e6-aaa8-babbff11f24f",
   "metadata": {},
   "source": [
    "## list : "
   ]
  },
  {
   "cell_type": "code",
   "execution_count": 101,
   "id": "28c45d45-651e-4c29-827b-d4625c238b33",
   "metadata": {},
   "outputs": [
    {
     "name": "stdout",
     "output_type": "stream",
     "text": [
      "['apple', 'banana', 'cherry']\n"
     ]
    }
   ],
   "source": [
    "thislist = [\"apple\", \"banana\", \"cherry\"]\n",
    "print(thislist)"
   ]
  },
  {
   "cell_type": "code",
   "execution_count": 102,
   "id": "17c4f3da-2dc2-4778-9ee8-f4de9c2ce4a2",
   "metadata": {},
   "outputs": [
    {
     "name": "stdout",
     "output_type": "stream",
     "text": [
      "['apple', 'banana', 'cherry', 'apple', 'cherry']\n"
     ]
    }
   ],
   "source": [
    "thislist = [\"apple\", \"banana\", \"cherry\", \"apple\", \"cherry\"]\n",
    "print(thislist)"
   ]
  },
  {
   "cell_type": "code",
   "execution_count": 103,
   "id": "99bd1a89-930f-4834-8f2d-c27b3e535b8e",
   "metadata": {},
   "outputs": [
    {
     "name": "stdout",
     "output_type": "stream",
     "text": [
      "3\n"
     ]
    }
   ],
   "source": [
    "thislist = [\"apple\", \"banana\", \"cherry\"]\n",
    "print(len(thislist))"
   ]
  },
  {
   "cell_type": "markdown",
   "id": "60efa54e-0516-4b50-962e-ab95f4ed06a8",
   "metadata": {},
   "source": [
    "### using the list constructor to make the list constructor()"
   ]
  },
  {
   "cell_type": "code",
   "execution_count": 104,
   "id": "06993b7e-0a61-480d-adfc-afbd627e5501",
   "metadata": {},
   "outputs": [
    {
     "name": "stdout",
     "output_type": "stream",
     "text": [
      "['apple', 'banana', 'cherry']\n"
     ]
    }
   ],
   "source": [
    "thislist = list((\"apple\", \"banana\", \"cherry\")) # note the double round-brackets\n",
    "print(thislist)"
   ]
  },
  {
   "cell_type": "markdown",
   "id": "1fe13583-7f35-4aac-8c9e-ebae4da44caf",
   "metadata": {},
   "source": [
    "### Access Items"
   ]
  },
  {
   "cell_type": "code",
   "execution_count": 4,
   "id": "9f0d96bf-b6eb-4311-8b47-74db987a6775",
   "metadata": {},
   "outputs": [
    {
     "name": "stdout",
     "output_type": "stream",
     "text": [
      "cherry\n",
      "apple\n"
     ]
    }
   ],
   "source": [
    "thislist = [\"apple\", \"banana\", \"cherry\"]\n",
    "print(thislist[-1])\n",
    "print(thislist[0])"
   ]
  },
  {
   "cell_type": "code",
   "execution_count": 5,
   "id": "1cd2eb39-5291-41ca-a8cc-265ff1469a70",
   "metadata": {},
   "outputs": [
    {
     "name": "stdout",
     "output_type": "stream",
     "text": [
      "['apple', 'banana', 'cherry', 'orange', 'kiwi', 'melon', 'mango']\n"
     ]
    }
   ],
   "source": [
    "thislist = [\"apple\", \"banana\", \"cherry\", \"orange\", \"kiwi\", \"melon\", \"mango\"]\n",
    "print(thislist[0:])"
   ]
  },
  {
   "cell_type": "code",
   "execution_count": 6,
   "id": "aac60d91-2283-41a5-b608-67445678ce15",
   "metadata": {},
   "outputs": [
    {
     "name": "stdout",
     "output_type": "stream",
     "text": [
      "['mango', 'melon', 'kiwi', 'orange', 'cherry', 'banana', 'apple']\n"
     ]
    }
   ],
   "source": [
    "thislist = [\"apple\", \"banana\", \"cherry\", \"orange\", \"kiwi\", \"melon\", \"mango\"]\n",
    "print(thislist[::-1])"
   ]
  },
  {
   "cell_type": "code",
   "execution_count": 10,
   "id": "8ffb8881-3dcc-4e43-90c6-da1a4a30865c",
   "metadata": {},
   "outputs": [
    {
     "name": "stdout",
     "output_type": "stream",
     "text": [
      "['cherry', 'orange', 'kiwi', 'melon', 'mango']\n"
     ]
    }
   ],
   "source": [
    "thislist = [\"apple\", \"banana\", \"cherry\", \"orange\", \"kiwi\", \"melon\", \"mango\"]\n",
    "print(thislist[-5:])"
   ]
  },
  {
   "cell_type": "code",
   "execution_count": 112,
   "id": "8f4ef07b-bbbd-4c7e-9f56-0c2b4ab23c4a",
   "metadata": {},
   "outputs": [
    {
     "name": "stdout",
     "output_type": "stream",
     "text": [
      "['cherry', 'orange', 'kiwi', 'melon']\n"
     ]
    }
   ],
   "source": [
    "thislist = [\"apple\", \"banana\", \"cherry\", \"orange\", \"kiwi\", \"melon\", \"mango\"]\n",
    "print(thislist[-5:-1])"
   ]
  },
  {
   "cell_type": "code",
   "execution_count": 20,
   "id": "a60b16ae-dc1b-4d75-b624-5286f9296509",
   "metadata": {},
   "outputs": [
    {
     "name": "stdout",
     "output_type": "stream",
     "text": [
      "uvwxy\n"
     ]
    }
   ],
   "source": [
    "x = \"abcdefghijklmnopqurstuvwxyz\"\n",
    "print(x[-6:-1])"
   ]
  },
  {
   "cell_type": "code",
   "execution_count": 32,
   "id": "056319e0-b5dd-41b8-b891-da671054ce25",
   "metadata": {},
   "outputs": [
    {
     "data": {
      "text/plain": [
       "['apple', 'blackcurrant', 'cherry', 'orange', 'kiwi', 'mango']"
      ]
     },
     "execution_count": 32,
     "metadata": {},
     "output_type": "execute_result"
    }
   ],
   "source": [
    "thislist = [\"apple\", \"banana\", \"cherry\", \"orange\", \"kiwi\", \"mango\"]\n",
    "thislist[1] = \"blackcurrant\"\n",
    "thislist"
   ]
  },
  {
   "cell_type": "markdown",
   "id": "0d3465f7-6878-40f7-ae96-6be6b0bcf3cd",
   "metadata": {},
   "source": [
    "### Change a Range of Item Values"
   ]
  },
  {
   "cell_type": "code",
   "execution_count": 31,
   "id": "a4fca1c0-bf1b-4eb4-8a05-c9e25a91a6a6",
   "metadata": {},
   "outputs": [
    {
     "name": "stdout",
     "output_type": "stream",
     "text": [
      "['apple', 'blackcurrant', 'watermelon', 'orange', 'kiwi', 'mango']\n"
     ]
    }
   ],
   "source": [
    "thislist = [\"apple\", \"banana\", \"cherry\", \"orange\", \"kiwi\", \"mango\"]\n",
    "thislist[1:3] = [\"blackcurrant\", \"watermelon\"]\n",
    "print(thislist)"
   ]
  },
  {
   "cell_type": "code",
   "execution_count": 116,
   "id": "609897c4-efe6-4af0-a98a-0929ac436997",
   "metadata": {},
   "outputs": [
    {
     "name": "stdout",
     "output_type": "stream",
     "text": [
      "['apple', 'blackcurrant', 'watermelon', 'kiwi', 'mango']\n"
     ]
    }
   ],
   "source": [
    "thislist = [\"apple\", \"banana\", \"cherry\", \"orange\", \"kiwi\", \"mango\"]\n",
    "thislist[1:4] = [\"blackcurrant\", \"watermelon\"]\n",
    "print(thislist)"
   ]
  },
  {
   "cell_type": "markdown",
   "id": "1a41c06d-e791-4cb1-a5e6-8d25d877039d",
   "metadata": {},
   "source": [
    "### Check if Item Exists"
   ]
  },
  {
   "cell_type": "code",
   "execution_count": 22,
   "id": "c3223ac4-183e-46cb-b851-c058c4c2b100",
   "metadata": {},
   "outputs": [
    {
     "name": "stdout",
     "output_type": "stream",
     "text": [
      "True\n"
     ]
    }
   ],
   "source": [
    "thislist = [\"apple\", \"banana\", \"cherry\", \"orange\", \"kiwi\", \"mango\"]\n",
    "print(\"apple\" in thislist)"
   ]
  },
  {
   "cell_type": "markdown",
   "id": "2065c206-99ad-4c26-9071-6dc976768bb6",
   "metadata": {},
   "source": [
    "### Insert Items"
   ]
  },
  {
   "cell_type": "markdown",
   "id": "c62077ee-ed26-4e6b-af2a-fe7c9167cea6",
   "metadata": {},
   "source": [
    "To insert a new list item, without replacing any of the existing values, we can use the insert() method.\n",
    "\n",
    "The insert() method inserts an item at the specified index:"
   ]
  },
  {
   "cell_type": "code",
   "execution_count": 35,
   "id": "68fed808-2f6c-4ac6-a108-936832d81a62",
   "metadata": {},
   "outputs": [
    {
     "data": {
      "text/plain": [
       "['apple', 'banana', 'watermelon', 'cherry']"
      ]
     },
     "execution_count": 35,
     "metadata": {},
     "output_type": "execute_result"
    }
   ],
   "source": [
    "thislist = [\"apple\", \"banana\", \"cherry\"]\n",
    "thislist.insert(2  , \"watermelon\")\n",
    "thislist"
   ]
  },
  {
   "cell_type": "markdown",
   "id": "65980c5d-4c87-4994-8b65-e18468b501f5",
   "metadata": {},
   "source": [
    "### Append Items"
   ]
  },
  {
   "cell_type": "markdown",
   "id": "be619a47-66bc-451d-8551-f10f446e4845",
   "metadata": {},
   "source": [
    "To add an item to the end of the list, use the append() method:"
   ]
  },
  {
   "cell_type": "code",
   "execution_count": 38,
   "id": "c8bc186d-dd6f-4354-82e1-376cb94c47ea",
   "metadata": {},
   "outputs": [
    {
     "data": {
      "text/plain": [
       "['apple', 'banana', 'cherry', 'orange']"
      ]
     },
     "execution_count": 38,
     "metadata": {},
     "output_type": "execute_result"
    }
   ],
   "source": [
    "thislist = [\"apple\" , \"banana\" , \"cherry\"]\n",
    "thislist.append(\"orange\")\n",
    "thislist"
   ]
  },
  {
   "cell_type": "markdown",
   "id": "2ed94c29-a569-482b-8ae3-8a95919f8337",
   "metadata": {},
   "source": [
    "### Extend List"
   ]
  },
  {
   "cell_type": "markdown",
   "id": "7b8f0e98-5f04-477b-9f0f-cf5dc79a9228",
   "metadata": {},
   "source": [
    "To append elements from another list to the current list, use the extend() method."
   ]
  },
  {
   "cell_type": "code",
   "execution_count": 44,
   "id": "8e1d76b8-9bcf-43f7-bfce-50c149d1eab4",
   "metadata": {},
   "outputs": [
    {
     "name": "stdout",
     "output_type": "stream",
     "text": [
      "['apple', 'banana', 'cherry', 'mango', 'pineapple', 'papaya', 'lion', 'tiger']\n"
     ]
    }
   ],
   "source": [
    "thislist = [\"apple\", \"banana\", \"cherry\"]\n",
    "tropical = [\"mango\", \"pineapple\", \"papaya\"]\n",
    "thistuple = (\"lion\" , \"tiger\")  // tuple \n",
    "thislist.extend(tropical)\n",
    "\n",
    "thislist.extend(thistuple)\n",
    "print(thislist)"
   ]
  },
  {
   "cell_type": "markdown",
   "id": "9a1818b2-e51e-463f-996b-d36c61bd882b",
   "metadata": {},
   "source": [
    "## Python - Remove List Items"
   ]
  },
  {
   "cell_type": "code",
   "execution_count": 45,
   "id": "b683e517-1dde-4276-af38-b83473733452",
   "metadata": {},
   "outputs": [
    {
     "name": "stdout",
     "output_type": "stream",
     "text": [
      "['apple', 'cherry']\n"
     ]
    }
   ],
   "source": [
    "thislist = [\"apple\", \"banana\", \"cherry\"]\n",
    "thislist.remove(\"banana\")\n",
    "print(thislist)"
   ]
  },
  {
   "cell_type": "markdown",
   "id": "cbaa3f0b-945a-47d0-b2f1-dfc6213a5184",
   "metadata": {},
   "source": [
    "If there are more than one item with the specified value, the remove() method removes the first occurrence:"
   ]
  },
  {
   "cell_type": "code",
   "execution_count": 46,
   "id": "df5dc0ae-3a23-4be0-817d-0ecd37b04112",
   "metadata": {},
   "outputs": [
    {
     "name": "stdout",
     "output_type": "stream",
     "text": [
      "['apple', 'cherry', 'banana', 'kiwi']\n"
     ]
    }
   ],
   "source": [
    "thislist = [\"apple\", \"banana\", \"cherry\", \"banana\", \"kiwi\"]\n",
    "thislist.remove(\"banana\")\n",
    "print(thislist)"
   ]
  },
  {
   "cell_type": "markdown",
   "id": "29d6231d-a3b8-4376-8810-d1afbb4d24d9",
   "metadata": {},
   "source": [
    "### Remove Specified Index"
   ]
  },
  {
   "cell_type": "code",
   "execution_count": 47,
   "id": "17102995-3bb2-40f6-8a23-0f9f5bb186bd",
   "metadata": {},
   "outputs": [
    {
     "name": "stdout",
     "output_type": "stream",
     "text": [
      "['apple', 'cherry']\n"
     ]
    }
   ],
   "source": [
    "thislist = [\"apple\", \"banana\", \"cherry\"]\n",
    "thislist.pop(1)\n",
    "print(thislist)"
   ]
  },
  {
   "cell_type": "markdown",
   "id": "d70d61f5-a71f-4e89-b661-f4b4f5fbad28",
   "metadata": {},
   "source": [
    "If you do not specify the index, the pop() method removes the last item."
   ]
  },
  {
   "cell_type": "code",
   "execution_count": 48,
   "id": "a14b8828-a555-40a5-8731-51573d4ee66c",
   "metadata": {},
   "outputs": [
    {
     "name": "stdout",
     "output_type": "stream",
     "text": [
      "['apple', 'banana']\n"
     ]
    }
   ],
   "source": [
    "thislist = [\"apple\", \"banana\", \"cherry\"]\n",
    "thislist.pop()\n",
    "print(thislist)"
   ]
  },
  {
   "cell_type": "markdown",
   "id": "950dd62a-8fc5-487a-bb11-e77047a08497",
   "metadata": {},
   "source": [
    "### using the del keyword : "
   ]
  },
  {
   "cell_type": "code",
   "execution_count": 49,
   "id": "b36d32d2-d762-45e3-a549-2edc5318efa5",
   "metadata": {},
   "outputs": [
    {
     "name": "stdout",
     "output_type": "stream",
     "text": [
      "['banana', 'cherry']\n"
     ]
    }
   ],
   "source": [
    "thislist = [\"apple\", \"banana\", \"cherry\"]\n",
    "del thislist[0]\n",
    "print(thislist)"
   ]
  },
  {
   "cell_type": "markdown",
   "id": "d8caabc2-701e-4945-bbde-8e82ca8c1475",
   "metadata": {},
   "source": [
    "### The del keyword can also delete the list completely."
   ]
  },
  {
   "cell_type": "code",
   "execution_count": 52,
   "id": "c7d901d2-24fb-497f-a041-f4c2c93840c7",
   "metadata": {},
   "outputs": [],
   "source": [
    "thislist = [\"apple\", \"banana\", \"cherry\"]\n",
    "del thislist"
   ]
  },
  {
   "cell_type": "markdown",
   "id": "8027d70c-eada-4a23-838e-351c16c6d1cc",
   "metadata": {},
   "source": [
    "### clear the list "
   ]
  },
  {
   "cell_type": "code",
   "execution_count": null,
   "id": "b24bbd71-e4b7-42b8-bc8e-895ccd95355b",
   "metadata": {},
   "outputs": [],
   "source": []
  }
 ],
 "metadata": {
  "kernelspec": {
   "display_name": "Python 3 (ipykernel)",
   "language": "python",
   "name": "python3"
  },
  "language_info": {
   "codemirror_mode": {
    "name": "ipython",
    "version": 3
   },
   "file_extension": ".py",
   "mimetype": "text/x-python",
   "name": "python",
   "nbconvert_exporter": "python",
   "pygments_lexer": "ipython3",
   "version": "3.12.4"
  }
 },
 "nbformat": 4,
 "nbformat_minor": 5
}
